{
 "cells": [
  {
   "cell_type": "code",
   "execution_count": null,
   "metadata": {},
   "outputs": [],
   "source": [
    "# loading a .pcapng file captured during connecting to the webpage and extract info from it\n",
    "\n",
    "import pyshark\n",
    "\n",
    "cap = pyshark.FileCapture(username_leak.pcapng, display_filter='http.request.method == \"POST\"')\n",
    "\n",
    "# Iterate over captured packets\n",
    "for packet in cap:\n",
    "    try:\n",
    "        # Check if it's an HTTP layer and the content type is form data\n",
    "        if 'HTTP' in packet and 'Form item' in packet.http.field_names:\n",
    "            # Print out form items which might contain usernames\n",
    "            form_items = packet.http.get_field_value('form_item')\n",
    "            if \"username=\" in form_items:\n",
    "                username = form_items.split('username=')[1].split('&')[0]  # Basic extraction logic\n",
    "                print(f\"Username found: {username}\")\n",
    "    except AttributeError as e:\n",
    "        # Handle packets that might not have the expected attributes\n",
    "        print(\"Attribute error encountered, skipping packet.\", e)\n",
    "    except Exception as e:\n",
    "        # General exception catch if other errors are encountered\n",
    "        print(\"An error occurred:\", e)\n",
    "\n",
    "# Close the capture file\n",
    "cap.close()\n",
    "\n"
   ]
  }
 ],
 "metadata": {
  "language_info": {
   "name": "python"
  }
 },
 "nbformat": 4,
 "nbformat_minor": 2
}
