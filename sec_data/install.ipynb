{
 "cells": [
  {
   "cell_type": "code",
   "execution_count": 1,
   "metadata": {},
   "outputs": [
    {
     "name": "stdout",
     "output_type": "stream",
     "text": [
      "Collecting djangoNote: you may need to restart the kernel to use updated packages.\n",
      "\n",
      "  Using cached Django-5.0.4-py3-none-any.whl.metadata (4.1 kB)\n",
      "Collecting asgiref<4,>=3.7.0 (from django)\n",
      "  Using cached asgiref-3.8.1-py3-none-any.whl.metadata (9.3 kB)\n",
      "Collecting sqlparse>=0.3.1 (from django)\n",
      "  Using cached sqlparse-0.5.0-py3-none-any.whl.metadata (3.9 kB)\n",
      "Collecting tzdata (from django)\n",
      "  Downloading tzdata-2024.1-py2.py3-none-any.whl.metadata (1.4 kB)\n",
      "Using cached Django-5.0.4-py3-none-any.whl (8.2 MB)\n",
      "Using cached asgiref-3.8.1-py3-none-any.whl (23 kB)\n",
      "Using cached sqlparse-0.5.0-py3-none-any.whl (43 kB)\n",
      "Downloading tzdata-2024.1-py2.py3-none-any.whl (345 kB)\n",
      "   ---------------------------------------- 0.0/345.4 kB ? eta -:--:--\n",
      "   - -------------------------------------- 10.2/345.4 kB ? eta -:--:--\n",
      "   ----------------------- ---------------- 204.8/345.4 kB 3.1 MB/s eta 0:00:01\n",
      "   ---------------------------------------- 345.4/345.4 kB 4.3 MB/s eta 0:00:00\n",
      "Installing collected packages: tzdata, sqlparse, asgiref, django\n",
      "Successfully installed asgiref-3.8.1 django-5.0.4 sqlparse-0.5.0 tzdata-2024.1\n"
     ]
    }
   ],
   "source": [
    "%pip install django\n"
   ]
  },
  {
   "cell_type": "code",
   "execution_count": 2,
   "metadata": {},
   "outputs": [
    {
     "name": "stdout",
     "output_type": "stream",
     "text": [
      "Name: Django\n",
      "Version: 5.0.4\n",
      "Summary: A high-level Python web framework that encourages rapid development and clean, pragmatic design.\n",
      "Home-page: https://www.djangoproject.com/\n",
      "Author: Django Software Foundation\n",
      "Author-email: foundation@djangoproject.com\n",
      "License: BSD-3-Clause\n",
      "Location: C:\\Users\\zhujy\\AppData\\Local\\Programs\\Python\\Python312\\Lib\\site-packages\n",
      "Requires: asgiref, sqlparse, tzdata\n",
      "Required-by: \n"
     ]
    }
   ],
   "source": [
    "!pip show django"
   ]
  },
  {
   "cell_type": "code",
   "execution_count": 4,
   "metadata": {},
   "outputs": [],
   "source": [
    "!django-admin startproject sec_data"
   ]
  }
 ],
 "metadata": {
  "kernelspec": {
   "display_name": "Python 3",
   "language": "python",
   "name": "python3"
  },
  "language_info": {
   "codemirror_mode": {
    "name": "ipython",
    "version": 3
   },
   "file_extension": ".py",
   "mimetype": "text/x-python",
   "name": "python",
   "nbconvert_exporter": "python",
   "pygments_lexer": "ipython3",
   "version": "3.12.0"
  }
 },
 "nbformat": 4,
 "nbformat_minor": 2
}
